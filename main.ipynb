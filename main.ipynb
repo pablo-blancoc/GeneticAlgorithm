{
 "cells": [
  {
   "cell_type": "markdown",
   "metadata": {},
   "source": [
    "### Implementación del algoritmo genético para minimizar funciones continuas con dominio definido  \n",
    "\n",
    "**Pablo Blanco | A01637761**  \n",
    "\n",
    "Código basado en: www.machinelearningmastery.com"
   ]
  },
  {
   "cell_type": "markdown",
   "metadata": {},
   "source": [
    "**Importar las librerías necesarias**"
   ]
  },
  {
   "cell_type": "code",
   "execution_count": 1,
   "metadata": {},
   "outputs": [],
   "source": [
    "import numpy as np"
   ]
  },
  {
   "cell_type": "markdown",
   "metadata": {},
   "source": [
    "**Function that helps us change from a list of bits (that seems like a bitstring) to a float**"
   ]
  },
  {
   "cell_type": "code",
   "execution_count": 2,
   "metadata": {},
   "outputs": [],
   "source": [
    "def __decode(bounds: np.array, number_of_bits: int, bitstring: list) -> float:\n",
    "    \"\"\"Decode a bitstring into a float in the given bounds.\n",
    "\n",
    "    Args:\n",
    "        bounds (np.array): minimum and maximum values of the floats in the function\n",
    "        number_of_bits (int): number of bits in the bitstring\n",
    "        bitstring (str): the bitstring to decode as a list\n",
    "\n",
    "    Returns:\n",
    "        float: float from the bitstring\n",
    "    \"\"\"\n",
    "    decoded = []\n",
    "    largest_posible = 2 ** number_of_bits\n",
    "    \n",
    "    # for each vairable that has bounds\n",
    "    for i in range(len(bounds)):\n",
    "        \n",
    "        # extract the substring\n",
    "        start, end = i * number_of_bits, (number_of_bits * (i + 1))\n",
    "        substring = bitstring[start:end]\n",
    "        \n",
    "        # convert bitstring to a string of chars\n",
    "        chars = ''.join([str(s) for s in substring])\n",
    "        \n",
    "        # convert string to integer\n",
    "        integer = int(chars, 2)\n",
    "        \n",
    "        # scale integer to desired range\n",
    "        value = bounds[i][0] + (integer / largest_posible) * (bounds[i][1] - bounds[i][0])\n",
    "        \n",
    "        # store\n",
    "        decoded.append(value)\n",
    "        \n",
    "    return decoded"
   ]
  },
  {
   "cell_type": "markdown",
   "metadata": {},
   "source": [
    "**Selection of fittest parents**"
   ]
  },
  {
   "cell_type": "code",
   "execution_count": 3,
   "metadata": {},
   "outputs": [],
   "source": [
    "def __selection(population: np.array, scores: list, k: int = 5) -> list:\n",
    "    \"\"\"Regresa al mejor elemento de un torneo de k contrincantes\n",
    "\n",
    "    Args:\n",
    "        population (list): La población completa\n",
    "        scores (list): Los puntajes de cada individuo\n",
    "        k (int, optional): El número de contrincantes a enfrentar. Defaults to 3.\n",
    "\n",
    "    Returns:\n",
    "        list: El mejor individuo de la población que participó dentro del torneo\n",
    "    \"\"\"\n",
    "    # Take an element from the population at random\n",
    "    element_number = np.random.randint(len(population))\n",
    "    \n",
    "    for enemy in np.random.randint(0, len(population), k):\n",
    "        # check if the enemy's score is better (e.g. perform a tournament)\n",
    "        if scores[enemy] < scores[element_number]:\n",
    "            element_number = enemy\n",
    "\n",
    "    # return the best element\n",
    "    return population[element_number]"
   ]
  },
  {
   "cell_type": "markdown",
   "metadata": {},
   "source": [
    "**Recombination function**"
   ]
  },
  {
   "cell_type": "code",
   "execution_count": 4,
   "metadata": {},
   "outputs": [],
   "source": [
    "def __crossover(parent_1: list, parent_2: list, crossover_rate: float) -> np.array:\n",
    "    \"\"\"Cross over two parents to create two children\n",
    "\n",
    "    Args:\n",
    "            parent_1 (list): Parent 01\n",
    "            parent_2 (list): Parent 02\n",
    "            r_cross (float): Crossover rate\n",
    "\n",
    "    Returns:\n",
    "            np.array: Array of 2 children\n",
    "    \"\"\"\n",
    "    # create empty array\n",
    "    newborns = np.zeros((2, len(parent_1)), dtype=list)\n",
    "    \n",
    "    newborns[0] = parent_1.copy()\n",
    "    newborns[1] = parent_2.copy()\n",
    "\n",
    "    # check for recombination rate\n",
    "    if np.random.rand() < crossover_rate:\n",
    "\n",
    "        # select crossover point that is not on the end of the strin\n",
    "        midpoint = np.random.randint(1, len(parent_1) - 2)\n",
    "\n",
    "        # perform crossover\n",
    "        newborns[0] = np.concatenate((parent_1[:midpoint], parent_2[midpoint:]))\n",
    "        newborns[1] = np.concatenate((parent_2[:midpoint], parent_1[midpoint:]))\n",
    "\n",
    "    return newborns\n"
   ]
  },
  {
   "cell_type": "markdown",
   "metadata": {},
   "source": [
    "**Mutation function**"
   ]
  },
  {
   "cell_type": "code",
   "execution_count": 5,
   "metadata": {},
   "outputs": [],
   "source": [
    "def __mutation(bitstring: list, mutation_rate: float):\n",
    "    \"\"\"Create a mutation in a given bitstring.\n",
    "\n",
    "    Args:\n",
    "        bitstring (list): A list of bits.\n",
    "        mutation_rate (float): The rate at which there may be a mutation.\n",
    "    \"\"\"\n",
    "    for i in range(len(bitstring)):\n",
    "        \n",
    "        # check for a mutation\n",
    "        if np.random.rand() < mutation_rate:\n",
    "            \n",
    "            # flip the bit\n",
    "            bitstring[i] = 1 - bitstring[i]\n"
   ]
  },
  {
   "cell_type": "markdown",
   "metadata": {},
   "source": [
    "**Function that runs the algorithm for a function given**"
   ]
  },
  {
   "cell_type": "code",
   "execution_count": 6,
   "metadata": {},
   "outputs": [],
   "source": [
    "def genetic_algorithm(func, bounds: np.array, number_of_bits: int, number_of_iterations: int, population_size: int, crossover_rate: float, mutation_rate: float, verbose: bool = False) -> float and float:\n",
    "    \"\"\"Performs the genetic algorithm to find the minimum of a function given.\n",
    "\n",
    "    Args:\n",
    "        func: The function to minimize.\n",
    "        bounds (np.array): The bounds of the domain of the function.\n",
    "        number_of_bits (int): Number of bits to consider in each chromosome.\n",
    "        number_of_iterations (int): Number of iterations to perform.\n",
    "        population_size (int): Number of individuals in the population.\n",
    "        crossover_rate (float): The rate at which crossover occurs.\n",
    "        mutation_rate (float): The rate at which mutation occurs.\n",
    "        verbose (bool, optional): If the function should print how it is performing. Defaults to False.\n",
    "\n",
    "    Returns:\n",
    "        float: best number\n",
    "        float: best cost\n",
    "    \"\"\"\n",
    "    global __decode, __selection, __crossover, __mutation\n",
    "    \n",
    "    # chromosome length\n",
    "    chromosome_length = number_of_bits * len(bounds)\n",
    "\n",
    "    # initial population of random bitstring\n",
    "    population = [np.random.randint(0, 2, chromosome_length).tolist() for _ in range(population_size)]\n",
    "\n",
    "    # keep track of best solution\n",
    "    best, best_eval = 0, func(__decode(bounds, number_of_bits, population[0]))\n",
    "\n",
    "    # enumerate generations\n",
    "    for generation in range(number_of_iterations):\n",
    "\n",
    "        # decode all elements in population\n",
    "        decoded_population = [__decode(bounds, number_of_bits, element) for element in population]\n",
    "\n",
    "        # evaluate all candidates in the population\n",
    "        scores = [func(decoded_element) for decoded_element in decoded_population]\n",
    "\n",
    "        # check for new best solution\n",
    "        for i in range(population_size):\n",
    "            if scores[i] < best_eval:\n",
    "                best, best_eval = population[i], scores[i]\n",
    "                if verbose:\n",
    "                    print(f\"GEN: {generation}. New best f({decoded_population[i]}) = {scores[i]}\")\n",
    "\n",
    "        # select parents for recombination\n",
    "        selected_parents = [__selection(population, scores) for _ in range(population_size)]\n",
    "\n",
    "        # create the next generation\n",
    "        children = np.empty((population_size, chromosome_length), dtype=list)\n",
    "        children_number = 0\n",
    "\n",
    "        for i in range(0, population_size, 2):\n",
    "\n",
    "            # get selected parents in pairs\n",
    "            parent_1, parent_2 = selected_parents[i], selected_parents[i+1]\n",
    "\n",
    "            # crossover and mutation\n",
    "            for child in __crossover(parent_1, parent_2, crossover_rate):\n",
    "                # mutation\n",
    "                __mutation(child, mutation_rate)\n",
    "\n",
    "                # store for next generation\n",
    "                children[children_number] = child\n",
    "\n",
    "                children_number += 1\n",
    "\n",
    "        # replace population\n",
    "        population = children\n",
    "\n",
    "    return best, best_eval\n"
   ]
  },
  {
   "cell_type": "markdown",
   "metadata": {},
   "source": [
    "**Define minimizing function and run the algorithm**"
   ]
  },
  {
   "cell_type": "code",
   "execution_count": 7,
   "metadata": {},
   "outputs": [],
   "source": [
    "def f(x: list) -> float:\n",
    "    return (x[0] ** 4) / 4 + (x[0] ** 3) / 3 - (x[0] ** 2)"
   ]
  },
  {
   "cell_type": "code",
   "execution_count": 8,
   "metadata": {},
   "outputs": [
    {
     "name": "stdout",
     "output_type": "stream",
     "text": [
      "Best solution: f(-2.0) = -2.667\n"
     ]
    }
   ],
   "source": [
    "# define range for input\n",
    "bounds = np.array([[-5.0, 5.0]])\n",
    "\n",
    "# define the total iterations\n",
    "number_of_iterations = 500\n",
    "\n",
    "# bits per variable\n",
    "number_of_bits = 16\n",
    "\n",
    "# define the population size\n",
    "population_size = 500\n",
    "\n",
    "# crossover rate\n",
    "crossover_rate = 0.9\n",
    "\n",
    "# mutation rate\n",
    "mutation_rate = 1.0 / (float(number_of_bits) * len(bounds))\n",
    "\n",
    "# perform the genetic algorithm search\n",
    "best, score = genetic_algorithm(func=f, bounds=bounds, number_of_bits=number_of_bits, number_of_iterations=number_of_iterations, population_size=population_size,\n",
    "                                crossover_rate=crossover_rate, mutation_rate=mutation_rate, verbose=False)\n",
    "\n",
    "decoded = __decode(bounds, number_of_bits, best)\n",
    "print(f\"Best solution: f({', '.join(str(x) for x in np.round(decoded, 3))}) = {np.round(score, 3)}\")\n"
   ]
  },
  {
   "cell_type": "markdown",
   "metadata": {},
   "source": [
    "**Define second minimizing function and run the algorithm**"
   ]
  },
  {
   "cell_type": "code",
   "execution_count": 9,
   "metadata": {},
   "outputs": [],
   "source": [
    "def g(x: list) -> float:\n",
    "    return 8 * (x[0] ** 3) - (24 * x[0] * x[1]) + x[1] ** 3"
   ]
  },
  {
   "cell_type": "code",
   "execution_count": 10,
   "metadata": {},
   "outputs": [
    {
     "name": "stdout",
     "output_type": "stream",
     "text": [
      "Best solution: g(-5.0, -5.0) = -1725.0\n"
     ]
    }
   ],
   "source": [
    "# define range for input\n",
    "bounds = np.array([[-5.0, 5.0], [-5.0, 5.0]])\n",
    "\n",
    "# define the total iterations\n",
    "number_of_iterations = 500\n",
    "\n",
    "# bits per variable\n",
    "number_of_bits = 16\n",
    "\n",
    "# define the population size\n",
    "population_size = 500\n",
    "\n",
    "# crossover rate\n",
    "crossover_rate = 0.9\n",
    "\n",
    "# mutation rate\n",
    "mutation_rate = 1.0 / (float(number_of_bits) * len(bounds))\n",
    "\n",
    "# perform the genetic algorithm search\n",
    "best, score = genetic_algorithm(func=g, bounds=bounds, number_of_bits=number_of_bits, number_of_iterations=number_of_iterations, population_size=population_size,\n",
    "                                crossover_rate=crossover_rate, mutation_rate=mutation_rate, verbose=False)\n",
    "\n",
    "decoded = __decode(bounds, number_of_bits, best)\n",
    "print(f\"Best solution: g({', '.join(str(x) for x in np.round(decoded, 3))}) = {np.round(score, 3)}\")\n"
   ]
  }
 ],
 "metadata": {
  "interpreter": {
   "hash": "2ee981ac832ad90e64534f074cfd7b4206c72d63b113b0fc086b97eb425939b6"
  },
  "kernelspec": {
   "display_name": "Python 3.8.5 64-bit ('venv': venv)",
   "language": "python",
   "name": "python3"
  },
  "language_info": {
   "codemirror_mode": {
    "name": "ipython",
    "version": 3
   },
   "file_extension": ".py",
   "mimetype": "text/x-python",
   "name": "python",
   "nbconvert_exporter": "python",
   "pygments_lexer": "ipython3",
   "version": "3.8.5"
  },
  "orig_nbformat": 4
 },
 "nbformat": 4,
 "nbformat_minor": 2
}
